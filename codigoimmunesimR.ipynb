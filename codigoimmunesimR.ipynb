{
 "cells": [
  {
   "cell_type": "code",
   "execution_count": 2,
   "id": "df9e438c",
   "metadata": {
    "vscode": {
     "languageId": "r"
    }
   },
   "outputs": [
    {
     "name": "stderr",
     "output_type": "stream",
     "text": [
      " \n",
      "\n",
      "> Will \u001b[3m\u001b[3mupdate\u001b[3m\u001b[23m 1 package.\n",
      "\n",
      "> The package (594.49 kB) is cached.\n",
      "\n",
      "\u001b[90m+ \u001b[39m\u001b[34mBiocManager\u001b[39m 1.30.16 > 1.30.\u001b[1m26\u001b[22m [bld]\n",
      "\n",
      "\u001b[36mi\u001b[39m No downloads are needed, 1 pkg (594.49 kB) is cached\n",
      "\n",
      "\u001b[32mv\u001b[39m Installed \u001b[34m\u001b[34mBiocManager\u001b[34m\u001b[39m 1.30.26  \u001b[90m\u001b[90m(37ms)\u001b[90m\u001b[39m\n",
      "\n",
      "\u001b[32mv\u001b[39m 1 pkg: upd 1 \u001b[90m\u001b[90m[1.1s]\u001b[90m\u001b[39m\n",
      "\n"
     ]
    }
   ],
   "source": [
    "pak::pkg_install(\"BiocManager\")"
   ]
  },
  {
   "cell_type": "code",
   "execution_count": 4,
   "id": "aeef9e54",
   "metadata": {
    "vscode": {
     "languageId": "r"
    }
   },
   "outputs": [
    {
     "name": "stderr",
     "output_type": "stream",
     "text": [
      "'getOption(\"repos\")' replaces Bioconductor standard repositories, see\n",
      "'help(\"repositories\", package = \"BiocManager\")' for details.\n",
      "Replacement repositories:\n",
      "    CRAN: https://cran.r-project.org\n",
      "\n",
      "Bioconductor version 3.13 (BiocManager 1.30.26), R 4.1.1 (2021-08-10)\n",
      "\n",
      "Warning message:\n",
      "\"package(s) not installed when version(s) same as or greater than current; use\n",
      "  `force = TRUE` to re-install: 'Biostrings'\"\n",
      "Old packages: 'BH', 'BiocParallel', 'Cairo', 'DBI', 'GenomeInfoDb',\n",
      "  'GenomicFeatures', 'IRdisplay', 'KernSmooth', 'MatrixGenerics', 'NMF', 'R6',\n",
      "  'RColorBrewer', 'RCurl', 'RSQLite', 'Rcpp', 'S4Vectors', 'XML', 'askpass',\n",
      "  'backports', 'bit', 'bit64', 'bitops', 'blob', 'boot', 'broom', 'caTools',\n",
      "  'cachem', 'callr', 'circlize', 'class', 'cli', 'clipr', 'cluster',\n",
      "  'codetools', 'colorspace', 'cowplot', 'cpp11', 'crayon', 'curl',\n",
      "  'data.table', 'dbplyr', 'digest', 'doParallel', 'dplyr', 'evaluate', 'fansi',\n",
      "  'farver', 'fastmap', 'filelock', 'foreach', 'foreign', 'formatR', 'fs',\n",
      "  'gargle', 'generics', 'ggalluvial', 'ggdendro', 'ggplot2', 'glue',\n",
      "  'googledrive', 'googlesheets4', 'gplots', 'gtable', 'gtools', 'haven',\n",
      "  'highr', 'htmltools', 'httr', 'isoband', 'iterators', 'jsonlite', 'knitr',\n",
      "  'labeling', 'lattice', 'lifecycle', 'lubridate', 'markdown', 'matrixStats',\n",
      "  'memoise', 'mgcv', 'mime', 'munsell', 'nlme', 'nnet', 'openssl', 'openxlsx',\n",
      "  'pbdZMQ', 'pillar', 'plyr', 'png', 'pracma', 'prettyunits', 'processx',\n",
      "  'progress', 'ps', 'purrr', 'ragg', 'readr', 'readxl', 'rematch', 'repr',\n",
      "  'reprex', 'restfulr', 'rjson', 'rlang', 'rmarkdown', 'rngtools', 'rpart',\n",
      "  'rstudioapi', 'rvest', 'scales', 'shape', 'snow', 'spatial', 'stringi',\n",
      "  'stringr', 'survival', 'svglite', 'sys', 'systemfonts', 'textshaping',\n",
      "  'tibble', 'tidyr', 'tidyselect', 'timechange', 'tinytex', 'tzdb', 'utf8',\n",
      "  'uuid', 'vctrs', 'viridisLite', 'vroom', 'withr', 'xfun', 'xml2', 'yaml',\n",
      "  'zip'\n",
      "\n"
     ]
    }
   ],
   "source": [
    "\n",
    "BiocManager::install(\"Biostrings\")"
   ]
  },
  {
   "cell_type": "code",
   "execution_count": 5,
   "id": "a23eae5d",
   "metadata": {
    "vscode": {
     "languageId": "r"
    }
   },
   "outputs": [
    {
     "name": "stderr",
     "output_type": "stream",
     "text": [
      " \n",
      "\n",
      "> Will \u001b[3m\u001b[3minstall\u001b[3m\u001b[23m 11 packages.\n",
      "\n",
      "> Will \u001b[3m\u001b[3mdownload\u001b[3m\u001b[23m 11 CRAN packages (20.00 MB).\n",
      "\n",
      "\u001b[90m+ \u001b[39m\u001b[34mMetrics\u001b[39m       0.1.4  [dl] \u001b[90m(81.83 kB)\u001b[39m\n",
      "\u001b[90m+ \u001b[39m\u001b[34mR.cache\u001b[39m       0.16.0 [dl] \u001b[90m(109.67 kB)\u001b[39m\n",
      "\u001b[90m+ \u001b[39m\u001b[34mR.methodsS3\u001b[39m   1.8.2  [dl] \u001b[90m(81.17 kB)\u001b[39m\n",
      "\u001b[90m+ \u001b[39m\u001b[34mR.oo\u001b[39m          1.25.0 [dl] \u001b[90m(973.46 kB)\u001b[39m\n",
      "\u001b[90m+ \u001b[39m\u001b[34mR.utils\u001b[39m       2.12.2 [dl] \u001b[90m(1.42 MB)\u001b[39m\n",
      "\u001b[90m+ \u001b[39m\u001b[34mggthemes\u001b[39m      4.2.4  [dl] \u001b[90m(436.16 kB)\u001b[39m\n",
      "\u001b[90m+ \u001b[39m\u001b[34migraph\u001b[39m        1.4.2  [dl] \u001b[90m(8.63 MB)\u001b[39m\n",
      "\u001b[90m+ \u001b[39m\u001b[34mimmuneSIM\u001b[39m     0.8.7  [dl] \u001b[90m(4.38 MB)\u001b[39m\n",
      "\u001b[90m+ \u001b[39m\u001b[34mpoweRlaw\u001b[39m      0.70.6 [dl] \u001b[90m(3.22 MB)\u001b[39m\n",
      "\u001b[90m+ \u001b[39m\u001b[34mrepmis\u001b[39m        0.5    [dl] \u001b[90m(50.62 kB)\u001b[39m\n",
      "\u001b[90m+ \u001b[39m\u001b[34mstringdist\u001b[39m    0.9.10 [dl] \u001b[90m(609.11 kB)\u001b[39m\n",
      "\n",
      "\u001b[36mi\u001b[39m Getting 11 pkgs (20.00 MB)\n",
      "\n",
      "\u001b[32mv\u001b[39m Got \u001b[34m\u001b[34mMetrics\u001b[34m\u001b[39m 0.1.4 (x86_64-apple-darwin17.0) (81.83 kB)\n",
      "\n",
      "\u001b[32mv\u001b[39m Got \u001b[34m\u001b[34mR.methodsS3\u001b[34m\u001b[39m 1.8.2 (x86_64-apple-darwin17.0) (81.17 kB)\n",
      "\n",
      "\u001b[32mv\u001b[39m Got \u001b[34m\u001b[34mR.cache\u001b[34m\u001b[39m 0.16.0 (x86_64-apple-darwin17.0) (109.67 kB)\n",
      "\n",
      "\u001b[32mv\u001b[39m Got \u001b[34m\u001b[34mrepmis\u001b[34m\u001b[39m 0.5 (x86_64-apple-darwin17.0) (50.62 kB)\n",
      "\n",
      "\u001b[32mv\u001b[39m Got \u001b[34m\u001b[34mggthemes\u001b[34m\u001b[39m 4.2.4 (x86_64-apple-darwin17.0) (436.16 kB)\n",
      "\n",
      "\u001b[32mv\u001b[39m Got \u001b[34m\u001b[34mR.oo\u001b[34m\u001b[39m 1.25.0 (x86_64-apple-darwin17.0) (973.46 kB)\n",
      "\n",
      "\u001b[32mv\u001b[39m Got \u001b[34m\u001b[34mR.utils\u001b[34m\u001b[39m 2.12.2 (x86_64-apple-darwin17.0) (1.42 MB)\n",
      "\n",
      "\u001b[32mv\u001b[39m Got \u001b[34m\u001b[34mstringdist\u001b[34m\u001b[39m 0.9.10 (x86_64-apple-darwin17.0) (609.11 kB)\n",
      "\n",
      "\u001b[32mv\u001b[39m Got \u001b[34m\u001b[34mpoweRlaw\u001b[34m\u001b[39m 0.70.6 (x86_64-apple-darwin17.0) (3.22 MB)\n",
      "\n",
      "\u001b[32mv\u001b[39m Got \u001b[34m\u001b[34mimmuneSIM\u001b[34m\u001b[39m 0.8.7 (x86_64-apple-darwin17.0) (4.38 MB)\n",
      "\n",
      "\u001b[32mv\u001b[39m Got \u001b[34m\u001b[34migraph\u001b[34m\u001b[39m 1.4.2 (x86_64-apple-darwin17.0) (8.63 MB)\n",
      "\n",
      "\u001b[32mv\u001b[39m Installed \u001b[34m\u001b[34mMetrics\u001b[34m\u001b[39m 0.1.4  \u001b[90m\u001b[90m(71ms)\u001b[90m\u001b[39m\n",
      "\n",
      "\u001b[32mv\u001b[39m Installed \u001b[34m\u001b[34mR.cache\u001b[34m\u001b[39m 0.16.0  \u001b[90m\u001b[90m(90ms)\u001b[90m\u001b[39m\n",
      "\n",
      "\u001b[32mv\u001b[39m Installed \u001b[34m\u001b[34mR.methodsS3\u001b[34m\u001b[39m 1.8.2  \u001b[90m\u001b[90m(112ms)\u001b[90m\u001b[39m\n",
      "\n",
      "\u001b[32mv\u001b[39m Installed \u001b[34m\u001b[34mR.oo\u001b[34m\u001b[39m 1.25.0  \u001b[90m\u001b[90m(193ms)\u001b[90m\u001b[39m\n",
      "\n",
      "\u001b[32mv\u001b[39m Installed \u001b[34m\u001b[34mR.utils\u001b[34m\u001b[39m 2.12.2  \u001b[90m\u001b[90m(121ms)\u001b[90m\u001b[39m\n",
      "\n",
      "\u001b[32mv\u001b[39m Installed \u001b[34m\u001b[34mggthemes\u001b[34m\u001b[39m 4.2.4  \u001b[90m\u001b[90m(387ms)\u001b[90m\u001b[39m\n",
      "\n",
      "\u001b[32mv\u001b[39m Installed \u001b[34m\u001b[34mimmuneSIM\u001b[34m\u001b[39m 0.8.7  \u001b[90m\u001b[90m(38ms)\u001b[90m\u001b[39m\n",
      "\n",
      "\u001b[32mv\u001b[39m Installed \u001b[34m\u001b[34migraph\u001b[34m\u001b[39m 1.4.2  \u001b[90m\u001b[90m(173ms)\u001b[90m\u001b[39m\n",
      "\n",
      "\u001b[32mv\u001b[39m Installed \u001b[34m\u001b[34mpoweRlaw\u001b[34m\u001b[39m 0.70.6  \u001b[90m\u001b[90m(83ms)\u001b[90m\u001b[39m\n",
      "\n",
      "\u001b[32mv\u001b[39m Installed \u001b[34m\u001b[34mrepmis\u001b[34m\u001b[39m 0.5  \u001b[90m\u001b[90m(57ms)\u001b[90m\u001b[39m\n",
      "\n",
      "\u001b[32mv\u001b[39m Installed \u001b[34m\u001b[34mstringdist\u001b[34m\u001b[39m 0.9.10  \u001b[90m\u001b[90m(30ms)\u001b[90m\u001b[39m\n",
      "\n",
      "\u001b[32mv\u001b[39m 1 pkg + 65 deps: kept 3, added 11, dld 11 (20.00 MB) \u001b[90m\u001b[90m[6s]\u001b[90m\u001b[39m\n",
      "\n"
     ]
    }
   ],
   "source": [
    "pak::pkg_install(\"immuneSIM\")"
   ]
  },
  {
   "cell_type": "code",
   "execution_count": null,
   "id": "2a6dc6f5",
   "metadata": {
    "vscode": {
     "languageId": "r"
    }
   },
   "outputs": [],
   "source": [
    "#Descripción de variables:\n",
    "#name_repertoire = nombre del repertorio\n",
    "#number_of_seqs = numero de secuencias \n",
    "#species = especie\n",
    "#receptor = ig (bcr)o tr (tcr)\n",
    "#chain = cadena pesada o liviana\n",
    "#verbose = activación de mensajes en la consola durante la simulación.\n",
    "#equal_cc = distribución de recuento de clone, si todos los clonotipos tienen o no mismo tamaño\n",
    "#user_defined_alpha = uniformidad de la distribucion, valor mas alto mas desiguales los clones. \n",
    "#shm = mutaciones somaticas basadas en modelos estadisticos que definen como se distribuyen las mutaciones en las secuencias simuladas.\n",
    "#none= no se simulan mutaciones / poisson=mutaciones distribuidas aleatoriamente segun modelo poisson, sin sesgo y constante en la secuencia/data= modelo basado en perfiles reales, mutaciones se concentran en CDR, baja aleatoriedad/ naive= simula secuencias sin SHM, pero puede incluir artefactos técnicos/ motif= mutaciones dirigidas por motivos especificos, introduce sesgos basados en hotspots conocidos.\n",
    "#shm.prob = probabilidad de que ocurra el evento 15/350 son 15 eventos de mutaciones en una secuencia de 350 nucleotidos.\n",
    "#vdj_noise = ruido que se genera porque se modifica la probabilidad con la que se seleccionan ciertos genes V, D o J durante la simulación de recombinación V(D)J.\n",
    "#max_cdr3_length = 100, min_cdr3_length= controlan el umbral máximo y mínimo para la longitud del aminoácido CDR3. En humanos, la longitud típica de CDR3 en IgH suele estar entre 10 y 25 aminoácidos, con una mediana alrededor de 15–16.\n"
   ]
  },
  {
   "cell_type": "code",
   "execution_count": null,
   "id": "cfb6c040",
   "metadata": {
    "vscode": {
     "languageId": "r"
    }
   },
   "outputs": [],
   "source": [
    "library(Biostrings)\n",
    "library(immuneSIM)\n",
    "\n",
    "#Codigo A naive sin expansion ni SHM en R\n",
    "\n",
    "sim_repertoire <- immuneSIM(\n",
    "  name_repertoire = \"sim_rep.A\",\n",
    "  number_of_seqs = 10000,\n",
    "  species = \"hs\",\n",
    "  receptor = \"ig\",\n",
    "  chain = \"h\",\n",
    "  verbose= TRUE,\n",
    "  equal_cc = TRUE,\n",
    "  shm = \"none\",\n",
    "  shm.prob = 0\n",
    "  vdj_noise = 0,\n",
    "  max_cdr3_length = 15, min_cdr3_length = 15,\n",
    " \n",
    ")\n",
    "\n",
    "# write.csv(\"../Desktop/repertorio_A_insilico_10000.csv\", sim_repertoire)\n",
    "\n",
    "dna_sequences <- Biostrings::DNAStringSet(sim_repertoire$sequence)  \n",
    "names(dna_sequences) <- paste0(\"seq\", 1:10000)\n",
    "\n",
    "writeXStringSet(dna_sequences, filepath = \"input/repertorio_A_insilico_10000.fasta\")"
   ]
  },
  {
   "cell_type": "code",
   "execution_count": 6,
   "id": "29f631b1",
   "metadata": {
    "vscode": {
     "languageId": "r"
    }
   },
   "outputs": [
    {
     "name": "stdout",
     "output_type": "stream",
     "text": [
      "No documentation for 'immuneSIM' in specified packages and libraries:\n",
      "you could try '??immuneSIM'"
     ]
    }
   ],
   "source": [
    "help(immuneSIM)"
   ]
  },
  {
   "cell_type": "code",
   "execution_count": null,
   "id": "27d8a233",
   "metadata": {
    "vscode": {
     "languageId": "r"
    }
   },
   "outputs": [
    {
     "ename": "ERROR",
     "evalue": "Error in library(Biostrings): there is no package called ‘Biostrings’\n",
     "output_type": "error",
     "traceback": [
      "Error in library(Biostrings): there is no package called ‘Biostrings’\nTraceback:\n",
      "1. stop(packageNotFoundError(package, lib.loc, sys.call()))"
     ]
    }
   ],
   "source": [
    "library(Biostrings)\n",
    "library(immuneSIM)\n",
    "\n",
    "#Codigo B naive con expansion y  SHM en R\n",
    "\n",
    "sim_repertoire <- immuneSIM(\n",
    "  name_repertoire = \"sim_rep.B\",\n",
    "  number_of_seqs = 10000,\n",
    "  species = \"hs\",\n",
    "  receptor = \"ig\",\n",
    "  chain = \"h\",\n",
    "  verbose= TRUE,\n",
    "  equal_cc = FALSE,\n",
    "  user_defined_alpha = 1.0,  \n",
    "  shm = \"poisson\",\n",
    "  shm.prob = 05/350,\n",
    "  vdj_noise = 0.2,\n",
    "  max_cdr3_length =25, min_cdr3_length =10,\n",
    " \n",
    ")\n",
    "\n",
    "# write.csv(\"../Desktop/repertorio_B_insilico_10000.csv\", sim_repertoire)\n",
    "\n",
    "dna_sequences <- Biostrings::DNAStringSet(sim_repertoire$sequence)  \n",
    "names(dna_sequences) <- paste0(\"seq\", 1:10000)\n",
    "\n",
    "writeXStringSet(dna_sequences, filepath = \"input/repertorio_B_insilico_10000.fasta\")\n"
   ]
  },
  {
   "cell_type": "code",
   "execution_count": null,
   "id": "6cde6c29",
   "metadata": {
    "vscode": {
     "languageId": "r"
    }
   },
   "outputs": [],
   "source": [
    "library(Biostrings)\n",
    "library(immuneSIM)\n",
    "\n",
    "#Codigo C naive + memoria con expansion media (simulacion sangre periferica) en R\n",
    "\n",
    "sim_repertoire <- immuneSIM(\n",
    "  name_repertoire = \"sim_rep.C\",\n",
    "  number_of_seqs = 10000,\n",
    "  species = \"hs\",\n",
    "  receptor = \"ig\",\n",
    "  chain = \"h\",\n",
    "  verbose= TRUE,\n",
    "  equal_cc = FALSE,\n",
    "  user_defined_alpha = 2.3,  \n",
    "  shm = \"data\",\n",
    "  shm.prob = 15/350,\n",
    "  vdj_noise = 0.35,\n",
    "  max_cdr3_length =20 , min_cdr3_length =12,\n",
    " \n",
    ")\n",
    "\n",
    "# write.csv(\"../Desktop/repertorio_C_insilico_10000.csv\", sim_repertoire)\n",
    "\n",
    "dna_sequences <- Biostrings::DNAStringSet(sim_repertoire$sequence)  \n",
    "names(dna_sequences) <- paste0(\"seq\", 1:10000)\n",
    "\n",
    "writeXStringSet(dna_sequences, filepath = \"input/repertorio_C_insilico_10000.fasta\")"
   ]
  }
 ],
 "metadata": {
  "kernelspec": {
   "display_name": "R",
   "language": "R",
   "name": "ir"
  },
  "language_info": {
   "codemirror_mode": "r",
   "file_extension": ".r",
   "mimetype": "text/x-r-source",
   "name": "R",
   "pygments_lexer": "r",
   "version": "4.1.1"
  }
 },
 "nbformat": 4,
 "nbformat_minor": 5
}
